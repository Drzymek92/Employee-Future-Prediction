{
 "cells": [
  {
   "cell_type": "code",
   "execution_count": 1,
   "id": "a69c1bb9",
   "metadata": {
    "_cell_guid": "b1076dfc-b9ad-4769-8c92-a6c4dae69d19",
    "_uuid": "8f2839f25d086af736a60e9eeb907d3b93b6e0e5",
    "execution": {
     "iopub.execute_input": "2021-10-26T16:46:45.617734Z",
     "iopub.status.busy": "2021-10-26T16:46:45.616646Z",
     "iopub.status.idle": "2021-10-26T16:46:45.637082Z",
     "shell.execute_reply": "2021-10-26T16:46:45.637519Z",
     "shell.execute_reply.started": "2021-10-26T15:41:24.967093Z"
    },
    "papermill": {
     "duration": 0.043854,
     "end_time": "2021-10-26T16:46:45.637861",
     "exception": false,
     "start_time": "2021-10-26T16:46:45.594007",
     "status": "completed"
    },
    "tags": []
   },
   "outputs": [
    {
     "name": "stdout",
     "output_type": "stream",
     "text": [
      "/kaggle/input/employee-future-prediction/Employee.csv\n"
     ]
    }
   ],
   "source": [
    "# This Python 3 environment comes with many helpful analytics libraries installed\n",
    "# It is defined by the kaggle/python Docker image: https://github.com/kaggle/docker-python\n",
    "# For example, here's several helpful packages to load\n",
    "\n",
    "import numpy as np # linear algebra\n",
    "import pandas as pd # data processing, CSV file I/O (e.g. pd.read_csv)\n",
    "\n",
    "# Input data files are available in the read-only \"../input/\" directory\n",
    "# For example, running this (by clicking run or pressing Shift+Enter) will list all files under the input directory\n",
    "\n",
    "import os\n",
    "for dirname, _, filenames in os.walk('/kaggle/input'):\n",
    "    for filename in filenames:\n",
    "        print(os.path.join(dirname, filename))\n",
    "\n",
    "# You can write up to 20GB to the current directory (/kaggle/working/) that gets preserved as output when you create a version using \"Save & Run All\" \n",
    "# You can also write temporary files to /kaggle/temp/, but they won't be saved outside of the current session"
   ]
  },
  {
   "cell_type": "markdown",
   "id": "f37f6a43",
   "metadata": {
    "papermill": {
     "duration": 0.017716,
     "end_time": "2021-10-26T16:46:45.674738",
     "exception": false,
     "start_time": "2021-10-26T16:46:45.657022",
     "status": "completed"
    },
    "tags": []
   },
   "source": [
    "# Employee Future Prediction - EDA, Classification Model, Analyse of feature importance."
   ]
  },
  {
   "cell_type": "markdown",
   "id": "e8861b4a",
   "metadata": {
    "papermill": {
     "duration": 0.017745,
     "end_time": "2021-10-26T16:46:45.710390",
     "exception": false,
     "start_time": "2021-10-26T16:46:45.692645",
     "status": "completed"
    },
    "tags": []
   },
   "source": [
    "Goal : \n",
    "Company's HR department wants to predict whether some customers would leave the company in next 2 years. <br>\n",
    "Your job is to build a predictive model that predicts the prospects of future and present employee. <br>\n",
    "Perform EDA and bring out insights<br>"
   ]
  },
  {
   "cell_type": "markdown",
   "id": "ffddbf4c",
   "metadata": {
    "papermill": {
     "duration": 0.017722,
     "end_time": "2021-10-26T16:46:45.746140",
     "exception": false,
     "start_time": "2021-10-26T16:46:45.728418",
     "status": "completed"
    },
    "tags": []
   },
   "source": [
    "About Data:  <br>\n",
    "Dummy Data Used For A Private Hackathon<br>\n",
    "Columns : <br>\n",
    "Education - Education Level<br>\n",
    "Joining Year - Year of Joining Company<br>\n",
    "City - City office where posted<br>\n",
    "Payment Tier - <br>\n",
    "    1 : Highest<br>\n",
    "    2 : Mid Level<br>\n",
    "    3 : Lowest<br>\n",
    "Age - Current Age<br>\n",
    "Gender - Gender of Employee (Male, Female)<br>\n",
    "EverBenched - Ever kept out of projects for 1 month or more. (True, False)<br>\n",
    "ExperienceInCurrentDomain - Experience in currend Field (years)<br>\n",
    "LeaveOrNot - Whether employee leaves the company in next 2 years. (0, 1)<br>"
   ]
  },
  {
   "cell_type": "code",
   "execution_count": 2,
   "id": "cf4b7739",
   "metadata": {
    "execution": {
     "iopub.execute_input": "2021-10-26T16:46:45.785483Z",
     "iopub.status.busy": "2021-10-26T16:46:45.784922Z",
     "iopub.status.idle": "2021-10-26T16:46:47.323883Z",
     "shell.execute_reply": "2021-10-26T16:46:47.323243Z",
     "shell.execute_reply.started": "2021-10-26T15:41:26.300513Z"
    },
    "papermill": {
     "duration": 1.559712,
     "end_time": "2021-10-26T16:46:47.324048",
     "exception": false,
     "start_time": "2021-10-26T16:46:45.764336",
     "status": "completed"
    },
    "tags": []
   },
   "outputs": [],
   "source": [
    "import pandas as pd\n",
    "import numpy as np\n",
    "import matplotlib.pyplot as plt\n",
    "import seaborn as sns\n",
    "from category_encoders.ordinal import OrdinalEncoder\n",
    "from sklearn.model_selection import cross_val_score"
   ]
  },
  {
   "cell_type": "code",
   "execution_count": 3,
   "id": "3d0de738",
   "metadata": {
    "execution": {
     "iopub.execute_input": "2021-10-26T16:46:47.371457Z",
     "iopub.status.busy": "2021-10-26T16:46:47.370483Z",
     "iopub.status.idle": "2021-10-26T16:46:47.373475Z",
     "shell.execute_reply": "2021-10-26T16:46:47.373005Z",
     "shell.execute_reply.started": "2021-10-26T15:41:31.766673Z"
    },
    "papermill": {
     "duration": 0.031095,
     "end_time": "2021-10-26T16:46:47.373654",
     "exception": false,
     "start_time": "2021-10-26T16:46:47.342559",
     "status": "completed"
    },
    "tags": []
   },
   "outputs": [],
   "source": [
    "# Function to print data scores of model\n",
    "def print_scores (model):\n",
    "    if str(type(model)) == \"<class 'sklearn.model_selection._search.GridSearchCV'>\":\n",
    "        roc = cross_val_score(model.best_estimator_, X_train, y_train, cv=7, scoring ='roc_auc')\n",
    "        recall = cross_val_score(model.best_estimator_, X_train, y_train, cv=7, scoring ='recall')\n",
    "        print (model.estimator)\n",
    "    else:\n",
    "        print(model)\n",
    "        roc = cross_val_score(model, X_train, y_train, cv=7, scoring ='roc_auc')\n",
    "        recall = cross_val_score(model, X_train, y_train, cv=7, scoring ='recall') \n",
    "    print (\"Scores on training data:\")\n",
    "    print (\"ROC AUC : {}\".format(roc.mean()))\n",
    "    print (\"Recall : {}\".format(recall.mean()))\n",
    "# Function to print test scores of model\n",
    "from sklearn import metrics\n",
    "def print_final_scores (model):\n",
    "    if str(type(model)) == \"<class 'sklearn.model_selection._search.GridSearchCV'>\":\n",
    "        final_predictions = model.best_estimator_.predict(X_test)\n",
    "        print (model.estimator)\n",
    "    else: \n",
    "        final_predictions = model.predict(X_test)\n",
    "    roc = metrics.roc_auc_score(final_predictions, y_test)\n",
    "    recall = metrics.recall_score(final_predictions, y_test)\n",
    "    print (\"Scores on test data:\")\n",
    "    print (\"ROC AUC : {}\".format(roc))\n",
    "    print (\"Recall : {}\".format(recall))"
   ]
  },
  {
   "cell_type": "markdown",
   "id": "4b03e5c6",
   "metadata": {
    "papermill": {
     "duration": 0.018154,
     "end_time": "2021-10-26T16:46:47.410157",
     "exception": false,
     "start_time": "2021-10-26T16:46:47.392003",
     "status": "completed"
    },
    "tags": []
   },
   "source": [
    "# EDA"
   ]
  },
  {
   "cell_type": "code",
   "execution_count": 4,
   "id": "ed487cbd",
   "metadata": {
    "execution": {
     "iopub.execute_input": "2021-10-26T16:46:47.452837Z",
     "iopub.status.busy": "2021-10-26T16:46:47.452112Z",
     "iopub.status.idle": "2021-10-26T16:46:47.471661Z",
     "shell.execute_reply": "2021-10-26T16:46:47.472193Z",
     "shell.execute_reply.started": "2021-10-26T15:41:27.154772Z"
    },
    "papermill": {
     "duration": 0.043054,
     "end_time": "2021-10-26T16:46:47.472372",
     "exception": false,
     "start_time": "2021-10-26T16:46:47.429318",
     "status": "completed"
    },
    "tags": []
   },
   "outputs": [],
   "source": [
    "data = pd.read_csv('../input/employee-future-prediction/Employee.csv')"
   ]
  },
  {
   "cell_type": "code",
   "execution_count": 5,
   "id": "852901e8",
   "metadata": {
    "execution": {
     "iopub.execute_input": "2021-10-26T16:46:47.512238Z",
     "iopub.status.busy": "2021-10-26T16:46:47.511614Z",
     "iopub.status.idle": "2021-10-26T16:46:47.530773Z",
     "shell.execute_reply": "2021-10-26T16:46:47.531225Z",
     "shell.execute_reply.started": "2021-10-26T15:41:27.691285Z"
    },
    "papermill": {
     "duration": 0.040665,
     "end_time": "2021-10-26T16:46:47.531387",
     "exception": false,
     "start_time": "2021-10-26T16:46:47.490722",
     "status": "completed"
    },
    "tags": []
   },
   "outputs": [
    {
     "data": {
      "text/html": [
       "<div>\n",
       "<style scoped>\n",
       "    .dataframe tbody tr th:only-of-type {\n",
       "        vertical-align: middle;\n",
       "    }\n",
       "\n",
       "    .dataframe tbody tr th {\n",
       "        vertical-align: top;\n",
       "    }\n",
       "\n",
       "    .dataframe thead th {\n",
       "        text-align: right;\n",
       "    }\n",
       "</style>\n",
       "<table border=\"1\" class=\"dataframe\">\n",
       "  <thead>\n",
       "    <tr style=\"text-align: right;\">\n",
       "      <th></th>\n",
       "      <th>Education</th>\n",
       "      <th>JoiningYear</th>\n",
       "      <th>City</th>\n",
       "      <th>PaymentTier</th>\n",
       "      <th>Age</th>\n",
       "      <th>Gender</th>\n",
       "      <th>EverBenched</th>\n",
       "      <th>ExperienceInCurrentDomain</th>\n",
       "      <th>LeaveOrNot</th>\n",
       "    </tr>\n",
       "  </thead>\n",
       "  <tbody>\n",
       "    <tr>\n",
       "      <th>0</th>\n",
       "      <td>Bachelors</td>\n",
       "      <td>2017</td>\n",
       "      <td>Bangalore</td>\n",
       "      <td>3</td>\n",
       "      <td>34</td>\n",
       "      <td>Male</td>\n",
       "      <td>No</td>\n",
       "      <td>0</td>\n",
       "      <td>0</td>\n",
       "    </tr>\n",
       "    <tr>\n",
       "      <th>1</th>\n",
       "      <td>Bachelors</td>\n",
       "      <td>2013</td>\n",
       "      <td>Pune</td>\n",
       "      <td>1</td>\n",
       "      <td>28</td>\n",
       "      <td>Female</td>\n",
       "      <td>No</td>\n",
       "      <td>3</td>\n",
       "      <td>1</td>\n",
       "    </tr>\n",
       "    <tr>\n",
       "      <th>2</th>\n",
       "      <td>Bachelors</td>\n",
       "      <td>2014</td>\n",
       "      <td>New Delhi</td>\n",
       "      <td>3</td>\n",
       "      <td>38</td>\n",
       "      <td>Female</td>\n",
       "      <td>No</td>\n",
       "      <td>2</td>\n",
       "      <td>0</td>\n",
       "    </tr>\n",
       "    <tr>\n",
       "      <th>3</th>\n",
       "      <td>Masters</td>\n",
       "      <td>2016</td>\n",
       "      <td>Bangalore</td>\n",
       "      <td>3</td>\n",
       "      <td>27</td>\n",
       "      <td>Male</td>\n",
       "      <td>No</td>\n",
       "      <td>5</td>\n",
       "      <td>1</td>\n",
       "    </tr>\n",
       "    <tr>\n",
       "      <th>4</th>\n",
       "      <td>Masters</td>\n",
       "      <td>2017</td>\n",
       "      <td>Pune</td>\n",
       "      <td>3</td>\n",
       "      <td>24</td>\n",
       "      <td>Male</td>\n",
       "      <td>Yes</td>\n",
       "      <td>2</td>\n",
       "      <td>1</td>\n",
       "    </tr>\n",
       "  </tbody>\n",
       "</table>\n",
       "</div>"
      ],
      "text/plain": [
       "   Education  JoiningYear       City  PaymentTier  Age  Gender EverBenched  \\\n",
       "0  Bachelors         2017  Bangalore            3   34    Male          No   \n",
       "1  Bachelors         2013       Pune            1   28  Female          No   \n",
       "2  Bachelors         2014  New Delhi            3   38  Female          No   \n",
       "3    Masters         2016  Bangalore            3   27    Male          No   \n",
       "4    Masters         2017       Pune            3   24    Male         Yes   \n",
       "\n",
       "   ExperienceInCurrentDomain  LeaveOrNot  \n",
       "0                          0           0  \n",
       "1                          3           1  \n",
       "2                          2           0  \n",
       "3                          5           1  \n",
       "4                          2           1  "
      ]
     },
     "execution_count": 5,
     "metadata": {},
     "output_type": "execute_result"
    }
   ],
   "source": [
    "data.head()"
   ]
  },
  {
   "cell_type": "code",
   "execution_count": 6,
   "id": "6b128307",
   "metadata": {
    "execution": {
     "iopub.execute_input": "2021-10-26T16:46:47.572266Z",
     "iopub.status.busy": "2021-10-26T16:46:47.571650Z",
     "iopub.status.idle": "2021-10-26T16:46:47.601793Z",
     "shell.execute_reply": "2021-10-26T16:46:47.601258Z",
     "shell.execute_reply.started": "2021-10-26T15:41:27.953176Z"
    },
    "papermill": {
     "duration": 0.051656,
     "end_time": "2021-10-26T16:46:47.601954",
     "exception": false,
     "start_time": "2021-10-26T16:46:47.550298",
     "status": "completed"
    },
    "tags": []
   },
   "outputs": [
    {
     "name": "stdout",
     "output_type": "stream",
     "text": [
      "<class 'pandas.core.frame.DataFrame'>\n",
      "RangeIndex: 4653 entries, 0 to 4652\n",
      "Data columns (total 9 columns):\n",
      " #   Column                     Non-Null Count  Dtype \n",
      "---  ------                     --------------  ----- \n",
      " 0   Education                  4653 non-null   object\n",
      " 1   JoiningYear                4653 non-null   int64 \n",
      " 2   City                       4653 non-null   object\n",
      " 3   PaymentTier                4653 non-null   int64 \n",
      " 4   Age                        4653 non-null   int64 \n",
      " 5   Gender                     4653 non-null   object\n",
      " 6   EverBenched                4653 non-null   object\n",
      " 7   ExperienceInCurrentDomain  4653 non-null   int64 \n",
      " 8   LeaveOrNot                 4653 non-null   int64 \n",
      "dtypes: int64(5), object(4)\n",
      "memory usage: 327.3+ KB\n"
     ]
    }
   ],
   "source": [
    "data.info()"
   ]
  },
  {
   "cell_type": "code",
   "execution_count": 7,
   "id": "22cb7017",
   "metadata": {
    "execution": {
     "iopub.execute_input": "2021-10-26T16:46:47.649969Z",
     "iopub.status.busy": "2021-10-26T16:46:47.648213Z",
     "iopub.status.idle": "2021-10-26T16:46:47.819513Z",
     "shell.execute_reply": "2021-10-26T16:46:47.820376Z",
     "shell.execute_reply.started": "2021-10-26T15:41:28.283599Z"
    },
    "papermill": {
     "duration": 0.19976,
     "end_time": "2021-10-26T16:46:47.820747",
     "exception": false,
     "start_time": "2021-10-26T16:46:47.620987",
     "status": "completed"
    },
    "tags": []
   },
   "outputs": [
    {
     "data": {
      "text/plain": [
       "<AxesSubplot:xlabel='Education', ylabel='count'>"
      ]
     },
     "execution_count": 7,
     "metadata": {},
     "output_type": "execute_result"
    },
    {
     "data": {
      "image/png": "[encoded data removed]",
      "text/plain": [
       "<Figure size 432x288 with 1 Axes>"
      ]
     },
     "metadata": {
      "needs_background": "light"
     },
     "output_type": "display_data"
    }
   ],
   "source": [
    "sns.countplot(data = data, x = 'Education')"
   ]
  },
  {
   "cell_type": "code",
   "execution_count": 8,
   "id": "2be53269",
   "metadata": {
    "execution": {
     "iopub.execute_input": "2021-10-26T16:46:47.869885Z",
     "iopub.status.busy": "2021-10-26T16:46:47.868865Z",
     "iopub.status.idle": "2021-10-26T16:46:48.047416Z",
     "shell.execute_reply": "2021-10-26T16:46:48.046291Z",
     "shell.execute_reply.started": "2021-10-26T15:41:28.727275Z"
    },
    "papermill": {
     "duration": 0.201501,
     "end_time": "2021-10-26T16:46:48.047650",
     "exception": false,
     "start_time": "2021-10-26T16:46:47.846149",
     "status": "completed"
    },
    "tags": []
   },
   "outputs": [
    {
     "data": {
      "text/plain": [
       "<AxesSubplot:xlabel='City', ylabel='count'>"
      ]
     },
     "execution_count": 8,
     "metadata": {},
     "output_type": "execute_result"
    },
    {
     "data": {
      "image/png": "[encoded data removed]",
      "text/plain": [
       "<Figure size 432x288 with 1 Axes>"
      ]
     },
     "metadata": {
      "needs_background": "light"
     },
     "output_type": "display_data"
    }
   ],
   "source": [
    "sns.countplot(data = data, x = 'City')"
   ]
  },
  {
   "cell_type": "code",
   "execution_count": 9,
   "id": "4406a01b",
   "metadata": {
    "execution": {
     "iopub.execute_input": "2021-10-26T16:46:48.097129Z",
     "iopub.status.busy": "2021-10-26T16:46:48.096376Z",
     "iopub.status.idle": "2021-10-26T16:46:48.115792Z",
     "shell.execute_reply": "2021-10-26T16:46:48.116272Z",
     "shell.execute_reply.started": "2021-10-26T15:41:29.140034Z"
    },
    "papermill": {
     "duration": 0.048446,
     "end_time": "2021-10-26T16:46:48.116448",
     "exception": false,
     "start_time": "2021-10-26T16:46:48.068002",
     "status": "completed"
    },
    "tags": []
   },
   "outputs": [
    {
     "data": {
      "text/html": [
       "<div>\n",
       "<style scoped>\n",
       "    .dataframe tbody tr th:only-of-type {\n",
       "        vertical-align: middle;\n",
       "    }\n",
       "\n",
       "    .dataframe tbody tr th {\n",
       "        vertical-align: top;\n",
       "    }\n",
       "\n",
       "    .dataframe thead th {\n",
       "        text-align: right;\n",
       "    }\n",
       "</style>\n",
       "<table border=\"1\" class=\"dataframe\">\n",
       "  <thead>\n",
       "    <tr style=\"text-align: right;\">\n",
       "      <th></th>\n",
       "      <th>JoiningYear</th>\n",
       "      <th>PaymentTier</th>\n",
       "      <th>Age</th>\n",
       "      <th>ExperienceInCurrentDomain</th>\n",
       "      <th>LeaveOrNot</th>\n",
       "    </tr>\n",
       "  </thead>\n",
       "  <tbody>\n",
       "    <tr>\n",
       "      <th>count</th>\n",
       "      <td>4653.000000</td>\n",
       "      <td>4653.000000</td>\n",
       "      <td>4653.000000</td>\n",
       "      <td>4653.000000</td>\n",
       "      <td>4653.000000</td>\n",
       "    </tr>\n",
       "    <tr>\n",
       "      <th>mean</th>\n",
       "      <td>2015.062970</td>\n",
       "      <td>2.698259</td>\n",
       "      <td>29.393295</td>\n",
       "      <td>2.905652</td>\n",
       "      <td>0.343864</td>\n",
       "    </tr>\n",
       "    <tr>\n",
       "      <th>std</th>\n",
       "      <td>1.863377</td>\n",
       "      <td>0.561435</td>\n",
       "      <td>4.826087</td>\n",
       "      <td>1.558240</td>\n",
       "      <td>0.475047</td>\n",
       "    </tr>\n",
       "    <tr>\n",
       "      <th>min</th>\n",
       "      <td>2012.000000</td>\n",
       "      <td>1.000000</td>\n",
       "      <td>22.000000</td>\n",
       "      <td>0.000000</td>\n",
       "      <td>0.000000</td>\n",
       "    </tr>\n",
       "    <tr>\n",
       "      <th>25%</th>\n",
       "      <td>2013.000000</td>\n",
       "      <td>3.000000</td>\n",
       "      <td>26.000000</td>\n",
       "      <td>2.000000</td>\n",
       "      <td>0.000000</td>\n",
       "    </tr>\n",
       "    <tr>\n",
       "      <th>50%</th>\n",
       "      <td>2015.000000</td>\n",
       "      <td>3.000000</td>\n",
       "      <td>28.000000</td>\n",
       "      <td>3.000000</td>\n",
       "      <td>0.000000</td>\n",
       "    </tr>\n",
       "    <tr>\n",
       "      <th>75%</th>\n",
       "      <td>2017.000000</td>\n",
       "      <td>3.000000</td>\n",
       "      <td>32.000000</td>\n",
       "      <td>4.000000</td>\n",
       "      <td>1.000000</td>\n",
       "    </tr>\n",
       "    <tr>\n",
       "      <th>max</th>\n",
       "      <td>2018.000000</td>\n",
       "      <td>3.000000</td>\n",
       "      <td>41.000000</td>\n",
       "      <td>7.000000</td>\n",
       "      <td>1.000000</td>\n",
       "    </tr>\n",
       "  </tbody>\n",
       "</table>\n",
       "</div>"
      ],
      "text/plain": [
       "       JoiningYear  PaymentTier          Age  ExperienceInCurrentDomain  \\\n",
       "count  4653.000000  4653.000000  4653.000000                4653.000000   \n",
       "mean   2015.062970     2.698259    29.393295                   2.905652   \n",
       "std       1.863377     0.561435     4.826087                   1.558240   \n",
       "min    2012.000000     1.000000    22.000000                   0.000000   \n",
       "25%    2013.000000     3.000000    26.000000                   2.000000   \n",
       "50%    2015.000000     3.000000    28.000000                   3.000000   \n",
       "75%    2017.000000     3.000000    32.000000                   4.000000   \n",
       "max    2018.000000     3.000000    41.000000                   7.000000   \n",
       "\n",
       "        LeaveOrNot  \n",
       "count  4653.000000  \n",
       "mean      0.343864  \n",
       "std       0.475047  \n",
       "min       0.000000  \n",
       "25%       0.000000  \n",
       "50%       0.000000  \n",
       "75%       1.000000  \n",
       "max       1.000000  "
      ]
     },
     "execution_count": 9,
     "metadata": {},
     "output_type": "execute_result"
    }
   ],
   "source": [
    "data.describe()"
   ]
  },
  {
   "cell_type": "code",
   "execution_count": 10,
   "id": "73ab50d7",
   "metadata": {
    "execution": {
     "iopub.execute_input": "2021-10-26T16:46:48.162508Z",
     "iopub.status.busy": "2021-10-26T16:46:48.161907Z",
     "iopub.status.idle": "2021-10-26T16:46:49.582541Z",
     "shell.execute_reply": "2021-10-26T16:46:49.583013Z",
     "shell.execute_reply.started": "2021-10-26T15:41:29.779813Z"
    },
    "papermill": {
     "duration": 1.445006,
     "end_time": "2021-10-26T16:46:49.583176",
     "exception": false,
     "start_time": "2021-10-26T16:46:48.138170",
     "status": "completed"
    },
    "tags": []
   },
   "outputs": [
    {
     "data": {
      "text/plain": [
       "array([[<AxesSubplot:title={'center':'JoiningYear'}>,\n",
       "        <AxesSubplot:title={'center':'PaymentTier'}>],\n",
       "       [<AxesSubplot:title={'center':'Age'}>,\n",
       "        <AxesSubplot:title={'center':'ExperienceInCurrentDomain'}>],\n",
       "       [<AxesSubplot:title={'center':'LeaveOrNot'}>, <AxesSubplot:>]],\n",
       "      dtype=object)"
      ]
     },
     "execution_count": 10,
     "metadata": {},
     "output_type": "execute_result"
    },
    {
     "data": {
      "image/png": "[encoded data removed]",
      "text/plain": [
       "<Figure size 1440x1080 with 6 Axes>"
      ]
     },
     "metadata": {
      "needs_background": "light"
     },
     "output_type": "display_data"
    }
   ],
   "source": [
    "data.hist(bins=50, figsize=(20,15))"
   ]
  },
  {
   "cell_type": "code",
   "execution_count": 11,
   "id": "76b178c0",
   "metadata": {
    "execution": {
     "iopub.execute_input": "2021-10-26T16:46:49.635779Z",
     "iopub.status.busy": "2021-10-26T16:46:49.635022Z",
     "iopub.status.idle": "2021-10-26T16:46:50.012486Z",
     "shell.execute_reply": "2021-10-26T16:46:50.011894Z",
     "shell.execute_reply.started": "2021-10-26T15:41:31.351567Z"
    },
    "papermill": {
     "duration": 0.405876,
     "end_time": "2021-10-26T16:46:50.012657",
     "exception": false,
     "start_time": "2021-10-26T16:46:49.606781",
     "status": "completed"
    },
    "tags": []
   },
   "outputs": [
    {
     "data": {
      "text/plain": [
       "<AxesSubplot:>"
      ]
     },
     "execution_count": 11,
     "metadata": {},
     "output_type": "execute_result"
    },
    {
     "data": {
      "image/png": "[encoded data removed]",
      "text/plain": [
       "<Figure size 864x576 with 2 Axes>"
      ]
     },
     "metadata": {
      "needs_background": "light"
     },
     "output_type": "display_data"
    }
   ],
   "source": [
    "corr_matrix = data.corr()\n",
    "fig, ax = plt.subplots(figsize=(12, 8))\n",
    "sns.heatmap(data.corr(), cmap=sns.diverging_palette(240, 10, n=9), annot = True, ax = ax, center = 0)"
   ]
  },
  {
   "cell_type": "markdown",
   "id": "c08b3a81",
   "metadata": {
    "papermill": {
     "duration": 0.023226,
     "end_time": "2021-10-26T16:46:50.060320",
     "exception": false,
     "start_time": "2021-10-26T16:46:50.037094",
     "status": "completed"
    },
    "tags": []
   },
   "source": [
    "# Feature Engineering"
   ]
  },
  {
   "cell_type": "markdown",
   "id": "ef4b7aea",
   "metadata": {
    "papermill": {
     "duration": 0.023481,
     "end_time": "2021-10-26T16:46:50.108099",
     "exception": false,
     "start_time": "2021-10-26T16:46:50.084618",
     "status": "completed"
    },
    "tags": []
   },
   "source": [
    "Encoding categorical data."
   ]
  },
  {
   "cell_type": "code",
   "execution_count": 12,
   "id": "0f9911cd",
   "metadata": {
    "execution": {
     "iopub.execute_input": "2021-10-26T16:46:50.166380Z",
     "iopub.status.busy": "2021-10-26T16:46:50.165718Z",
     "iopub.status.idle": "2021-10-26T16:46:50.168755Z",
     "shell.execute_reply": "2021-10-26T16:46:50.169232Z",
     "shell.execute_reply.started": "2021-10-26T15:41:37.801800Z"
    },
    "papermill": {
     "duration": 0.037423,
     "end_time": "2021-10-26T16:46:50.169408",
     "exception": false,
     "start_time": "2021-10-26T16:46:50.131985",
     "status": "completed"
    },
    "tags": []
   },
   "outputs": [],
   "source": [
    "data['Gender'] = data['Gender'].replace('Female', 0)\n",
    "data['Gender'] = data['Gender'].replace('Male', 1)"
   ]
  },
  {
   "cell_type": "code",
   "execution_count": 13,
   "id": "0806a2ca",
   "metadata": {
    "execution": {
     "iopub.execute_input": "2021-10-26T16:46:50.222616Z",
     "iopub.status.busy": "2021-10-26T16:46:50.221936Z",
     "iopub.status.idle": "2021-10-26T16:46:50.226591Z",
     "shell.execute_reply": "2021-10-26T16:46:50.227067Z",
     "shell.execute_reply.started": "2021-10-26T15:41:47.739455Z"
    },
    "papermill": {
     "duration": 0.033777,
     "end_time": "2021-10-26T16:46:50.227251",
     "exception": false,
     "start_time": "2021-10-26T16:46:50.193474",
     "status": "completed"
    },
    "tags": []
   },
   "outputs": [],
   "source": [
    "data['EverBenched'] = data['EverBenched'].replace('Yes', 1)\n",
    "data['EverBenched'] = data['EverBenched'].replace('No', 0)"
   ]
  },
  {
   "cell_type": "code",
   "execution_count": 14,
   "id": "f819621c",
   "metadata": {
    "execution": {
     "iopub.execute_input": "2021-10-26T16:46:50.278615Z",
     "iopub.status.busy": "2021-10-26T16:46:50.277946Z",
     "iopub.status.idle": "2021-10-26T16:46:50.284732Z",
     "shell.execute_reply": "2021-10-26T16:46:50.285198Z",
     "shell.execute_reply.started": "2021-10-26T15:41:49.712145Z"
    },
    "papermill": {
     "duration": 0.034059,
     "end_time": "2021-10-26T16:46:50.285386",
     "exception": false,
     "start_time": "2021-10-26T16:46:50.251327",
     "status": "completed"
    },
    "tags": []
   },
   "outputs": [],
   "source": [
    "from sklearn.preprocessing import OneHotEncoder\n",
    "cat_encoder = OneHotEncoder()\n",
    "data_city_1hot = pd.get_dummies(data['City'])"
   ]
  },
  {
   "cell_type": "code",
   "execution_count": 15,
   "id": "a452a25d",
   "metadata": {
    "execution": {
     "iopub.execute_input": "2021-10-26T16:46:50.339445Z",
     "iopub.status.busy": "2021-10-26T16:46:50.338802Z",
     "iopub.status.idle": "2021-10-26T16:46:50.343362Z",
     "shell.execute_reply": "2021-10-26T16:46:50.342875Z",
     "shell.execute_reply.started": "2021-10-26T15:41:57.433954Z"
    },
    "papermill": {
     "duration": 0.034343,
     "end_time": "2021-10-26T16:46:50.343505",
     "exception": false,
     "start_time": "2021-10-26T16:46:50.309162",
     "status": "completed"
    },
    "tags": []
   },
   "outputs": [],
   "source": [
    "data = data.drop('City',axis = 1)"
   ]
  },
  {
   "cell_type": "code",
   "execution_count": 16,
   "id": "3ab64fab",
   "metadata": {
    "execution": {
     "iopub.execute_input": "2021-10-26T16:46:50.395614Z",
     "iopub.status.busy": "2021-10-26T16:46:50.394982Z",
     "iopub.status.idle": "2021-10-26T16:46:50.399044Z",
     "shell.execute_reply": "2021-10-26T16:46:50.399522Z",
     "shell.execute_reply.started": "2021-10-26T15:41:59.240493Z"
    },
    "papermill": {
     "duration": 0.032493,
     "end_time": "2021-10-26T16:46:50.399740",
     "exception": false,
     "start_time": "2021-10-26T16:46:50.367247",
     "status": "completed"
    },
    "tags": []
   },
   "outputs": [],
   "source": [
    "data = pd.concat([data, data_city_1hot], axis = 1)"
   ]
  },
  {
   "cell_type": "code",
   "execution_count": 17,
   "id": "143bfd7c",
   "metadata": {
    "execution": {
     "iopub.execute_input": "2021-10-26T16:46:50.450647Z",
     "iopub.status.busy": "2021-10-26T16:46:50.450008Z",
     "iopub.status.idle": "2021-10-26T16:46:50.462509Z",
     "shell.execute_reply": "2021-10-26T16:46:50.461933Z",
     "shell.execute_reply.started": "2021-10-26T15:42:00.717739Z"
    },
    "papermill": {
     "duration": 0.039239,
     "end_time": "2021-10-26T16:46:50.462674",
     "exception": false,
     "start_time": "2021-10-26T16:46:50.423435",
     "status": "completed"
    },
    "tags": []
   },
   "outputs": [
    {
     "data": {
      "text/html": [
       "<div>\n",
       "<style scoped>\n",
       "    .dataframe tbody tr th:only-of-type {\n",
       "        vertical-align: middle;\n",
       "    }\n",
       "\n",
       "    .dataframe tbody tr th {\n",
       "        vertical-align: top;\n",
       "    }\n",
       "\n",
       "    .dataframe thead th {\n",
       "        text-align: right;\n",
       "    }\n",
       "</style>\n",
       "<table border=\"1\" class=\"dataframe\">\n",
       "  <thead>\n",
       "    <tr style=\"text-align: right;\">\n",
       "      <th></th>\n",
       "      <th>Education</th>\n",
       "      <th>JoiningYear</th>\n",
       "      <th>PaymentTier</th>\n",
       "      <th>Age</th>\n",
       "      <th>Gender</th>\n",
       "      <th>EverBenched</th>\n",
       "      <th>ExperienceInCurrentDomain</th>\n",
       "      <th>LeaveOrNot</th>\n",
       "      <th>Bangalore</th>\n",
       "      <th>New Delhi</th>\n",
       "      <th>Pune</th>\n",
       "    </tr>\n",
       "  </thead>\n",
       "  <tbody>\n",
       "    <tr>\n",
       "      <th>0</th>\n",
       "      <td>Bachelors</td>\n",
       "      <td>2017</td>\n",
       "      <td>3</td>\n",
       "      <td>34</td>\n",
       "      <td>1</td>\n",
       "      <td>0</td>\n",
       "      <td>0</td>\n",
       "      <td>0</td>\n",
       "      <td>1</td>\n",
       "      <td>0</td>\n",
       "      <td>0</td>\n",
       "    </tr>\n",
       "    <tr>\n",
       "      <th>1</th>\n",
       "      <td>Bachelors</td>\n",
       "      <td>2013</td>\n",
       "      <td>1</td>\n",
       "      <td>28</td>\n",
       "      <td>0</td>\n",
       "      <td>0</td>\n",
       "      <td>3</td>\n",
       "      <td>1</td>\n",
       "      <td>0</td>\n",
       "      <td>0</td>\n",
       "      <td>1</td>\n",
       "    </tr>\n",
       "    <tr>\n",
       "      <th>2</th>\n",
       "      <td>Bachelors</td>\n",
       "      <td>2014</td>\n",
       "      <td>3</td>\n",
       "      <td>38</td>\n",
       "      <td>0</td>\n",
       "      <td>0</td>\n",
       "      <td>2</td>\n",
       "      <td>0</td>\n",
       "      <td>0</td>\n",
       "      <td>1</td>\n",
       "      <td>0</td>\n",
       "    </tr>\n",
       "    <tr>\n",
       "      <th>3</th>\n",
       "      <td>Masters</td>\n",
       "      <td>2016</td>\n",
       "      <td>3</td>\n",
       "      <td>27</td>\n",
       "      <td>1</td>\n",
       "      <td>0</td>\n",
       "      <td>5</td>\n",
       "      <td>1</td>\n",
       "      <td>1</td>\n",
       "      <td>0</td>\n",
       "      <td>0</td>\n",
       "    </tr>\n",
       "    <tr>\n",
       "      <th>4</th>\n",
       "      <td>Masters</td>\n",
       "      <td>2017</td>\n",
       "      <td>3</td>\n",
       "      <td>24</td>\n",
       "      <td>1</td>\n",
       "      <td>1</td>\n",
       "      <td>2</td>\n",
       "      <td>1</td>\n",
       "      <td>0</td>\n",
       "      <td>0</td>\n",
       "      <td>1</td>\n",
       "    </tr>\n",
       "  </tbody>\n",
       "</table>\n",
       "</div>"
      ],
      "text/plain": [
       "   Education  JoiningYear  PaymentTier  Age  Gender  EverBenched  \\\n",
       "0  Bachelors         2017            3   34       1            0   \n",
       "1  Bachelors         2013            1   28       0            0   \n",
       "2  Bachelors         2014            3   38       0            0   \n",
       "3    Masters         2016            3   27       1            0   \n",
       "4    Masters         2017            3   24       1            1   \n",
       "\n",
       "   ExperienceInCurrentDomain  LeaveOrNot  Bangalore  New Delhi  Pune  \n",
       "0                          0           0          1          0     0  \n",
       "1                          3           1          0          0     1  \n",
       "2                          2           0          0          1     0  \n",
       "3                          5           1          1          0     0  \n",
       "4                          2           1          0          0     1  "
      ]
     },
     "execution_count": 17,
     "metadata": {},
     "output_type": "execute_result"
    }
   ],
   "source": [
    "data.head()"
   ]
  },
  {
   "cell_type": "code",
   "execution_count": 18,
   "id": "16f9e372",
   "metadata": {
    "execution": {
     "iopub.execute_input": "2021-10-26T16:46:50.521621Z",
     "iopub.status.busy": "2021-10-26T16:46:50.520323Z",
     "iopub.status.idle": "2021-10-26T16:46:50.527080Z",
     "shell.execute_reply": "2021-10-26T16:46:50.527642Z",
     "shell.execute_reply.started": "2021-10-26T15:42:08.125845Z"
    },
    "papermill": {
     "duration": 0.041029,
     "end_time": "2021-10-26T16:46:50.527827",
     "exception": false,
     "start_time": "2021-10-26T16:46:50.486798",
     "status": "completed"
    },
    "tags": []
   },
   "outputs": [],
   "source": [
    "ordinal_cols_mapping =[\n",
    "    { \n",
    " 'col':'Education',\n",
    "            'mapping':{ \n",
    "                'Bachelors' : 1,\n",
    "                'Masters' : 2,\n",
    "                'PHD' : 3},\n",
    "    }\n",
    "]\n",
    "encoder = OrdinalEncoder(mapping = ordinal_cols_mapping)\n",
    "data = encoder.fit_transform(data)"
   ]
  },
  {
   "cell_type": "code",
   "execution_count": 19,
   "id": "2e328b75",
   "metadata": {
    "execution": {
     "iopub.execute_input": "2021-10-26T16:46:50.581611Z",
     "iopub.status.busy": "2021-10-26T16:46:50.580946Z",
     "iopub.status.idle": "2021-10-26T16:46:50.591250Z",
     "shell.execute_reply": "2021-10-26T16:46:50.590747Z",
     "shell.execute_reply.started": "2021-10-26T15:42:14.388896Z"
    },
    "papermill": {
     "duration": 0.037994,
     "end_time": "2021-10-26T16:46:50.591394",
     "exception": false,
     "start_time": "2021-10-26T16:46:50.553400",
     "status": "completed"
    },
    "tags": []
   },
   "outputs": [],
   "source": [
    "# Separating target column and create train and test sets.\n",
    "col_names = ['Education', 'JoiningYear', 'PaymentTier', 'Age', 'Gender',\n",
    "       'EverBenched', 'ExperienceInCurrentDomain', 'Bangalore',\n",
    "       'New Delhi', 'Pune']\n",
    "X = data[col_names]\n",
    "y = data['LeaveOrNot']\n",
    "from sklearn.model_selection import train_test_split\n",
    "X_train, X_test, y_train, y_test = train_test_split(X, y, test_size = 0.25, random_state = 42)"
   ]
  },
  {
   "cell_type": "markdown",
   "id": "54b70a2e",
   "metadata": {
    "papermill": {
     "duration": 0.024364,
     "end_time": "2021-10-26T16:46:50.640371",
     "exception": false,
     "start_time": "2021-10-26T16:46:50.616007",
     "status": "completed"
    },
    "tags": []
   },
   "source": [
    "# Decision Tree Classifier"
   ]
  },
  {
   "cell_type": "code",
   "execution_count": 20,
   "id": "9f9f777a",
   "metadata": {
    "execution": {
     "iopub.execute_input": "2021-10-26T16:46:50.694986Z",
     "iopub.status.busy": "2021-10-26T16:46:50.694319Z",
     "iopub.status.idle": "2021-10-26T16:46:50.890937Z",
     "shell.execute_reply": "2021-10-26T16:46:50.891420Z",
     "shell.execute_reply.started": "2021-10-26T16:41:14.032344Z"
    },
    "papermill": {
     "duration": 0.22454,
     "end_time": "2021-10-26T16:46:50.891623",
     "exception": false,
     "start_time": "2021-10-26T16:46:50.667083",
     "status": "completed"
    },
    "tags": []
   },
   "outputs": [
    {
     "data": {
      "text/plain": [
       "DecisionTreeClassifier(max_depth=5, max_leaf_nodes=8, random_state=42)"
      ]
     },
     "execution_count": 20,
     "metadata": {},
     "output_type": "execute_result"
    }
   ],
   "source": [
    "from sklearn.tree import DecisionTreeClassifier\n",
    "dt = DecisionTreeClassifier(random_state=42, max_depth = 5, max_leaf_nodes = 8)\n",
    "dt.fit(X_train, y_train)"
   ]
  },
  {
   "cell_type": "code",
   "execution_count": 21,
   "id": "b114c1be",
   "metadata": {
    "execution": {
     "iopub.execute_input": "2021-10-26T16:46:50.943363Z",
     "iopub.status.busy": "2021-10-26T16:46:50.942753Z",
     "iopub.status.idle": "2021-10-26T16:46:51.061660Z",
     "shell.execute_reply": "2021-10-26T16:46:51.061143Z",
     "shell.execute_reply.started": "2021-10-26T16:41:18.176450Z"
    },
    "papermill": {
     "duration": 0.145829,
     "end_time": "2021-10-26T16:46:51.061810",
     "exception": false,
     "start_time": "2021-10-26T16:46:50.915981",
     "status": "completed"
    },
    "tags": []
   },
   "outputs": [
    {
     "name": "stdout",
     "output_type": "stream",
     "text": [
      "DecisionTreeClassifier(max_depth=5, max_leaf_nodes=8, random_state=42)\n",
      "Scores on training data:\n",
      "ROC AUC : 0.7926457605658996\n",
      "Recall : 0.4128819157720892\n"
     ]
    }
   ],
   "source": [
    "print_scores(dt)"
   ]
  },
  {
   "cell_type": "code",
   "execution_count": 22,
   "id": "26d0613c",
   "metadata": {
    "execution": {
     "iopub.execute_input": "2021-10-26T16:46:51.117829Z",
     "iopub.status.busy": "2021-10-26T16:46:51.117212Z",
     "iopub.status.idle": "2021-10-26T16:46:51.124424Z",
     "shell.execute_reply": "2021-10-26T16:46:51.124878Z",
     "shell.execute_reply.started": "2021-10-26T16:41:16.452456Z"
    },
    "papermill": {
     "duration": 0.038511,
     "end_time": "2021-10-26T16:46:51.125049",
     "exception": false,
     "start_time": "2021-10-26T16:46:51.086538",
     "status": "completed"
    },
    "tags": []
   },
   "outputs": [
    {
     "name": "stdout",
     "output_type": "stream",
     "text": [
      "Scores on test data:\n",
      "ROC AUC : 0.8839430894308943\n",
      "Recall : 0.9833333333333333\n"
     ]
    }
   ],
   "source": [
    "print_final_scores(dt)"
   ]
  },
  {
   "cell_type": "code",
   "execution_count": 23,
   "id": "5dea0a85",
   "metadata": {
    "execution": {
     "iopub.execute_input": "2021-10-26T16:46:51.179408Z",
     "iopub.status.busy": "2021-10-26T16:46:51.178796Z",
     "iopub.status.idle": "2021-10-26T16:46:52.190062Z",
     "shell.execute_reply": "2021-10-26T16:46:52.189496Z",
     "shell.execute_reply.started": "2021-10-26T16:41:20.208445Z"
    },
    "papermill": {
     "duration": 1.039395,
     "end_time": "2021-10-26T16:46:52.190205",
     "exception": false,
     "start_time": "2021-10-26T16:46:51.150810",
     "status": "completed"
    },
    "tags": []
   },
   "outputs": [
    {
     "data": {
      "image/svg+xml": [
       "<?xml version=\"1.0\" encoding=\"UTF-8\" standalone=\"no\"?>\n",
       "<!DOCTYPE svg PUBLIC \"-//W3C//DTD SVG 1.1//EN\"\n",
       " \"http://www.w3.org/Graphics/SVG/1.1/DTD/svg11.dtd\">\n",
       "<!-- Generated by graphviz version 2.49.0 (20210829.0051)\n",
       " -->\n",
       "<!-- Title: Tree Pages: 1 -->\n",
       "<svg width=\"822pt\" height=\"671pt\"\n",
       " viewBox=\"0.00 0.00 822.00 671.00\" xmlns=\"http://www.w3.org/2000/svg\" xmlns:xlink=\"http://www.w3.org/1999/xlink\">\n",
       "<g id=\"graph0\" class=\"graph\" transform=\"scale(1 1) rotate(0) translate(4 667)\">\n",
       "<title>Tree</title>\n",
       "<polygon fill=\"white\" stroke=\"transparent\" points=\"-4,4 -4,-667 818,-667 818,4 -4,4\"/>\n",
       "<!-- 0 -->\n",
       "<g id=\"node1\" class=\"node\">\n",
       "<title>0</title>\n",
       "<path fill=\"#f3c4a2\" stroke=\"black\" d=\"M556,-663C556,-663 413,-663 413,-663 407,-663 401,-657 401,-651 401,-651 401,-592 401,-592 401,-586 407,-580 413,-580 413,-580 556,-580 556,-580 562,-580 568,-586 568,-592 568,-592 568,-651 568,-651 568,-657 562,-663 556,-663\"/>\n",
       "<text text-anchor=\"start\" x=\"410.5\" y=\"-647.8\" font-family=\"Helvetica,sans-Serif\" font-size=\"14.00\">JoiningYear ≤ 2017.5</text>\n",
       "<text text-anchor=\"start\" x=\"440.5\" y=\"-632.8\" font-family=\"Helvetica,sans-Serif\" font-size=\"14.00\">gini = 0.453</text>\n",
       "<text text-anchor=\"start\" x=\"427\" y=\"-617.8\" font-family=\"Helvetica,sans-Serif\" font-size=\"14.00\">samples = 3489</text>\n",
       "<text text-anchor=\"start\" x=\"409\" y=\"-602.8\" font-family=\"Helvetica,sans-Serif\" font-size=\"14.00\">value = [2278, 1211]</text>\n",
       "<text text-anchor=\"start\" x=\"422\" y=\"-587.8\" font-family=\"Helvetica,sans-Serif\" font-size=\"14.00\">class = Not Leave</text>\n",
       "</g>\n",
       "<!-- 1 -->\n",
       "<g id=\"node2\" class=\"node\">\n",
       "<title>1</title>\n",
       "<path fill=\"#f0b58b\" stroke=\"black\" d=\"M470.5,-544C470.5,-544 336.5,-544 336.5,-544 330.5,-544 324.5,-538 324.5,-532 324.5,-532 324.5,-473 324.5,-473 324.5,-467 330.5,-461 336.5,-461 336.5,-461 470.5,-461 470.5,-461 476.5,-461 482.5,-467 482.5,-473 482.5,-473 482.5,-532 482.5,-532 482.5,-538 476.5,-544 470.5,-544\"/>\n",
       "<text text-anchor=\"start\" x=\"338.5\" y=\"-528.8\" font-family=\"Helvetica,sans-Serif\" font-size=\"14.00\">PaymentTier ≤ 2.5</text>\n",
       "<text text-anchor=\"start\" x=\"359.5\" y=\"-513.8\" font-family=\"Helvetica,sans-Serif\" font-size=\"14.00\">gini = 0.415</text>\n",
       "<text text-anchor=\"start\" x=\"346\" y=\"-498.8\" font-family=\"Helvetica,sans-Serif\" font-size=\"14.00\">samples = 3218</text>\n",
       "<text text-anchor=\"start\" x=\"332.5\" y=\"-483.8\" font-family=\"Helvetica,sans-Serif\" font-size=\"14.00\">value = [2273, 945]</text>\n",
       "<text text-anchor=\"start\" x=\"341\" y=\"-468.8\" font-family=\"Helvetica,sans-Serif\" font-size=\"14.00\">class = Not Leave</text>\n",
       "</g>\n",
       "<!-- 0&#45;&gt;1 -->\n",
       "<g id=\"edge1\" class=\"edge\">\n",
       "<title>0&#45;&gt;1</title>\n",
       "<path fill=\"none\" stroke=\"black\" d=\"M456.4,-579.91C450.24,-571.01 443.66,-561.51 437.31,-552.33\"/>\n",
       "<polygon fill=\"black\" stroke=\"black\" points=\"440.12,-550.25 431.55,-544.02 434.37,-554.24 440.12,-550.25\"/>\n",
       "<text text-anchor=\"middle\" x=\"427.08\" y=\"-564.92\" font-family=\"Helvetica,sans-Serif\" font-size=\"14.00\">True</text>\n",
       "</g>\n",
       "<!-- 2 -->\n",
       "<g id=\"node15\" class=\"node\">\n",
       "<title>2</title>\n",
       "<path fill=\"#3d9fe5\" stroke=\"black\" d=\"M620,-536.5C620,-536.5 513,-536.5 513,-536.5 507,-536.5 501,-530.5 501,-524.5 501,-524.5 501,-480.5 501,-480.5 501,-474.5 507,-468.5 513,-468.5 513,-468.5 620,-468.5 620,-468.5 626,-468.5 632,-474.5 632,-480.5 632,-480.5 632,-524.5 632,-524.5 632,-530.5 626,-536.5 620,-536.5\"/>\n",
       "<text text-anchor=\"start\" x=\"522.5\" y=\"-521.3\" font-family=\"Helvetica,sans-Serif\" font-size=\"14.00\">gini = 0.036</text>\n",
       "<text text-anchor=\"start\" x=\"513.5\" y=\"-506.3\" font-family=\"Helvetica,sans-Serif\" font-size=\"14.00\">samples = 271</text>\n",
       "<text text-anchor=\"start\" x=\"509\" y=\"-491.3\" font-family=\"Helvetica,sans-Serif\" font-size=\"14.00\">value = [5, 266]</text>\n",
       "<text text-anchor=\"start\" x=\"518\" y=\"-476.3\" font-family=\"Helvetica,sans-Serif\" font-size=\"14.00\">class = Leave</text>\n",
       "</g>\n",
       "<!-- 0&#45;&gt;2 -->\n",
       "<g id=\"edge14\" class=\"edge\">\n",
       "<title>0&#45;&gt;2</title>\n",
       "<path fill=\"none\" stroke=\"black\" d=\"M512.95,-579.91C520.84,-568.65 529.41,-556.42 537.34,-545.11\"/>\n",
       "<polygon fill=\"black\" stroke=\"black\" points=\"540.38,-546.86 543.25,-536.67 534.65,-542.85 540.38,-546.86\"/>\n",
       "<text text-anchor=\"middle\" x=\"547.59\" y=\"-557.59\" font-family=\"Helvetica,sans-Serif\" font-size=\"14.00\">False</text>\n",
       "</g>\n",
       "<!-- 3 -->\n",
       "<g id=\"node3\" class=\"node\">\n",
       "<title>3</title>\n",
       "<path fill=\"#e0f0fb\" stroke=\"black\" d=\"M384.5,-425C384.5,-425 244.5,-425 244.5,-425 238.5,-425 232.5,-419 232.5,-413 232.5,-413 232.5,-354 232.5,-354 232.5,-348 238.5,-342 244.5,-342 244.5,-342 384.5,-342 384.5,-342 390.5,-342 396.5,-348 396.5,-354 396.5,-354 396.5,-413 396.5,-413 396.5,-419 390.5,-425 384.5,-425\"/>\n",
       "<text text-anchor=\"start\" x=\"240.5\" y=\"-409.8\" font-family=\"Helvetica,sans-Serif\" font-size=\"14.00\">JoiningYear ≤ 2016.5</text>\n",
       "<text text-anchor=\"start\" x=\"270.5\" y=\"-394.8\" font-family=\"Helvetica,sans-Serif\" font-size=\"14.00\">gini = 0.497</text>\n",
       "<text text-anchor=\"start\" x=\"261.5\" y=\"-379.8\" font-family=\"Helvetica,sans-Serif\" font-size=\"14.00\">samples = 862</text>\n",
       "<text text-anchor=\"start\" x=\"248\" y=\"-364.8\" font-family=\"Helvetica,sans-Serif\" font-size=\"14.00\">value = [395, 467]</text>\n",
       "<text text-anchor=\"start\" x=\"266\" y=\"-349.8\" font-family=\"Helvetica,sans-Serif\" font-size=\"14.00\">class = Leave</text>\n",
       "</g>\n",
       "<!-- 1&#45;&gt;3 -->\n",
       "<g id=\"edge2\" class=\"edge\">\n",
       "<title>1&#45;&gt;3</title>\n",
       "<path fill=\"none\" stroke=\"black\" d=\"M372.62,-460.91C365.79,-451.92 358.48,-442.32 351.43,-433.05\"/>\n",
       "<polygon fill=\"black\" stroke=\"black\" points=\"354.16,-430.86 345.32,-425.02 348.59,-435.1 354.16,-430.86\"/>\n",
       "</g>\n",
       "<!-- 4 -->\n",
       "<g id=\"node10\" class=\"node\">\n",
       "<title>4</title>\n",
       "<path fill=\"#eca16b\" stroke=\"black\" d=\"M560.5,-425C560.5,-425 426.5,-425 426.5,-425 420.5,-425 414.5,-419 414.5,-413 414.5,-413 414.5,-354 414.5,-354 414.5,-348 420.5,-342 426.5,-342 426.5,-342 560.5,-342 560.5,-342 566.5,-342 572.5,-348 572.5,-354 572.5,-354 572.5,-413 572.5,-413 572.5,-419 566.5,-425 560.5,-425\"/>\n",
       "<text text-anchor=\"start\" x=\"437\" y=\"-409.8\" font-family=\"Helvetica,sans-Serif\" font-size=\"14.00\">Education ≤ 1.5</text>\n",
       "<text text-anchor=\"start\" x=\"449.5\" y=\"-394.8\" font-family=\"Helvetica,sans-Serif\" font-size=\"14.00\">gini = 0.323</text>\n",
       "<text text-anchor=\"start\" x=\"436\" y=\"-379.8\" font-family=\"Helvetica,sans-Serif\" font-size=\"14.00\">samples = 2356</text>\n",
       "<text text-anchor=\"start\" x=\"422.5\" y=\"-364.8\" font-family=\"Helvetica,sans-Serif\" font-size=\"14.00\">value = [1878, 478]</text>\n",
       "<text text-anchor=\"start\" x=\"431\" y=\"-349.8\" font-family=\"Helvetica,sans-Serif\" font-size=\"14.00\">class = Not Leave</text>\n",
       "</g>\n",
       "<!-- 1&#45;&gt;4 -->\n",
       "<g id=\"edge9\" class=\"edge\">\n",
       "<title>1&#45;&gt;4</title>\n",
       "<path fill=\"none\" stroke=\"black\" d=\"M434.73,-460.91C441.64,-451.92 449.03,-442.32 456.15,-433.05\"/>\n",
       "<polygon fill=\"black\" stroke=\"black\" points=\"459.01,-435.08 462.33,-425.02 453.46,-430.81 459.01,-435.08\"/>\n",
       "</g>\n",
       "<!-- 5 -->\n",
       "<g id=\"node4\" class=\"node\">\n",
       "<title>5</title>\n",
       "<path fill=\"#88c4ef\" stroke=\"black\" d=\"M212,-306C212,-306 87,-306 87,-306 81,-306 75,-300 75,-294 75,-294 75,-235 75,-235 75,-229 81,-223 87,-223 87,-223 212,-223 212,-223 218,-223 224,-229 224,-235 224,-235 224,-294 224,-294 224,-300 218,-306 212,-306\"/>\n",
       "<text text-anchor=\"start\" x=\"84.5\" y=\"-290.8\" font-family=\"Helvetica,sans-Serif\" font-size=\"14.00\">PaymentTier ≤ 1.5</text>\n",
       "<text text-anchor=\"start\" x=\"105.5\" y=\"-275.8\" font-family=\"Helvetica,sans-Serif\" font-size=\"14.00\">gini = 0.408</text>\n",
       "<text text-anchor=\"start\" x=\"96.5\" y=\"-260.8\" font-family=\"Helvetica,sans-Serif\" font-size=\"14.00\">samples = 456</text>\n",
       "<text text-anchor=\"start\" x=\"83\" y=\"-245.8\" font-family=\"Helvetica,sans-Serif\" font-size=\"14.00\">value = [130, 326]</text>\n",
       "<text text-anchor=\"start\" x=\"101\" y=\"-230.8\" font-family=\"Helvetica,sans-Serif\" font-size=\"14.00\">class = Leave</text>\n",
       "</g>\n",
       "<!-- 3&#45;&gt;5 -->\n",
       "<g id=\"edge3\" class=\"edge\">\n",
       "<title>3&#45;&gt;5</title>\n",
       "<path fill=\"none\" stroke=\"black\" d=\"M257.25,-341.91C243.56,-332.2 228.84,-321.76 214.81,-311.81\"/>\n",
       "<polygon fill=\"black\" stroke=\"black\" points=\"216.83,-308.95 206.64,-306.02 212.78,-314.66 216.83,-308.95\"/>\n",
       "</g>\n",
       "<!-- 6 -->\n",
       "<g id=\"node9\" class=\"node\">\n",
       "<title>6</title>\n",
       "<path fill=\"#f3c4a2\" stroke=\"black\" d=\"M379,-298.5C379,-298.5 254,-298.5 254,-298.5 248,-298.5 242,-292.5 242,-286.5 242,-286.5 242,-242.5 242,-242.5 242,-236.5 248,-230.5 254,-230.5 254,-230.5 379,-230.5 379,-230.5 385,-230.5 391,-236.5 391,-242.5 391,-242.5 391,-286.5 391,-286.5 391,-292.5 385,-298.5 379,-298.5\"/>\n",
       "<text text-anchor=\"start\" x=\"272.5\" y=\"-283.3\" font-family=\"Helvetica,sans-Serif\" font-size=\"14.00\">gini = 0.453</text>\n",
       "<text text-anchor=\"start\" x=\"263.5\" y=\"-268.3\" font-family=\"Helvetica,sans-Serif\" font-size=\"14.00\">samples = 406</text>\n",
       "<text text-anchor=\"start\" x=\"250\" y=\"-253.3\" font-family=\"Helvetica,sans-Serif\" font-size=\"14.00\">value = [265, 141]</text>\n",
       "<text text-anchor=\"start\" x=\"254\" y=\"-238.3\" font-family=\"Helvetica,sans-Serif\" font-size=\"14.00\">class = Not Leave</text>\n",
       "</g>\n",
       "<!-- 3&#45;&gt;6 -->\n",
       "<g id=\"edge8\" class=\"edge\">\n",
       "<title>3&#45;&gt;6</title>\n",
       "<path fill=\"none\" stroke=\"black\" d=\"M315.19,-341.91C315.38,-331.2 315.57,-319.62 315.76,-308.78\"/>\n",
       "<polygon fill=\"black\" stroke=\"black\" points=\"319.26,-308.73 315.93,-298.67 312.26,-308.61 319.26,-308.73\"/>\n",
       "</g>\n",
       "<!-- 7 -->\n",
       "<g id=\"node5\" class=\"node\">\n",
       "<title>7</title>\n",
       "<path fill=\"#f8dfcc\" stroke=\"black\" d=\"M129,-179.5C129,-179.5 12,-179.5 12,-179.5 6,-179.5 0,-173.5 0,-167.5 0,-167.5 0,-123.5 0,-123.5 0,-117.5 6,-111.5 12,-111.5 12,-111.5 129,-111.5 129,-111.5 135,-111.5 141,-117.5 141,-123.5 141,-123.5 141,-167.5 141,-167.5 141,-173.5 135,-179.5 129,-179.5\"/>\n",
       "<text text-anchor=\"start\" x=\"26.5\" y=\"-164.3\" font-family=\"Helvetica,sans-Serif\" font-size=\"14.00\">gini = 0.489</text>\n",
       "<text text-anchor=\"start\" x=\"17.5\" y=\"-149.3\" font-family=\"Helvetica,sans-Serif\" font-size=\"14.00\">samples = 143</text>\n",
       "<text text-anchor=\"start\" x=\"13\" y=\"-134.3\" font-family=\"Helvetica,sans-Serif\" font-size=\"14.00\">value = [82, 61]</text>\n",
       "<text text-anchor=\"start\" x=\"8\" y=\"-119.3\" font-family=\"Helvetica,sans-Serif\" font-size=\"14.00\">class = Not Leave</text>\n",
       "</g>\n",
       "<!-- 5&#45;&gt;7 -->\n",
       "<g id=\"edge4\" class=\"edge\">\n",
       "<title>5&#45;&gt;7</title>\n",
       "<path fill=\"none\" stroke=\"black\" d=\"M122.09,-222.91C114.49,-211.65 106.23,-199.42 98.59,-188.11\"/>\n",
       "<polygon fill=\"black\" stroke=\"black\" points=\"101.39,-186 92.89,-179.67 95.59,-189.91 101.39,-186\"/>\n",
       "</g>\n",
       "<!-- 8 -->\n",
       "<g id=\"node6\" class=\"node\">\n",
       "<title>8</title>\n",
       "<path fill=\"#5dafea\" stroke=\"black\" d=\"M287.5,-187C287.5,-187 171.5,-187 171.5,-187 165.5,-187 159.5,-181 159.5,-175 159.5,-175 159.5,-116 159.5,-116 159.5,-110 165.5,-104 171.5,-104 171.5,-104 287.5,-104 287.5,-104 293.5,-104 299.5,-110 299.5,-116 299.5,-116 299.5,-175 299.5,-175 299.5,-181 293.5,-187 287.5,-187\"/>\n",
       "<text text-anchor=\"start\" x=\"173\" y=\"-171.8\" font-family=\"Helvetica,sans-Serif\" font-size=\"14.00\">Education ≤ 1.5</text>\n",
       "<text text-anchor=\"start\" x=\"190\" y=\"-156.8\" font-family=\"Helvetica,sans-Serif\" font-size=\"14.00\">gini = 0.26</text>\n",
       "<text text-anchor=\"start\" x=\"176.5\" y=\"-141.8\" font-family=\"Helvetica,sans-Serif\" font-size=\"14.00\">samples = 313</text>\n",
       "<text text-anchor=\"start\" x=\"167.5\" y=\"-126.8\" font-family=\"Helvetica,sans-Serif\" font-size=\"14.00\">value = [48, 265]</text>\n",
       "<text text-anchor=\"start\" x=\"181\" y=\"-111.8\" font-family=\"Helvetica,sans-Serif\" font-size=\"14.00\">class = Leave</text>\n",
       "</g>\n",
       "<!-- 5&#45;&gt;8 -->\n",
       "<g id=\"edge5\" class=\"edge\">\n",
       "<title>5&#45;&gt;8</title>\n",
       "<path fill=\"none\" stroke=\"black\" d=\"M177.26,-222.91C183.34,-214.01 189.84,-204.51 196.11,-195.33\"/>\n",
       "<polygon fill=\"black\" stroke=\"black\" points=\"199.04,-197.25 201.79,-187.02 193.26,-193.3 199.04,-197.25\"/>\n",
       "</g>\n",
       "<!-- 13 -->\n",
       "<g id=\"node7\" class=\"node\">\n",
       "<title>13</title>\n",
       "<path fill=\"#46a4e7\" stroke=\"black\" d=\"M208.5,-68C208.5,-68 92.5,-68 92.5,-68 86.5,-68 80.5,-62 80.5,-56 80.5,-56 80.5,-12 80.5,-12 80.5,-6 86.5,0 92.5,0 92.5,0 208.5,0 208.5,0 214.5,0 220.5,-6 220.5,-12 220.5,-12 220.5,-56 220.5,-56 220.5,-62 214.5,-68 208.5,-68\"/>\n",
       "<text text-anchor=\"start\" x=\"106.5\" y=\"-52.8\" font-family=\"Helvetica,sans-Serif\" font-size=\"14.00\">gini = 0.119</text>\n",
       "<text text-anchor=\"start\" x=\"97.5\" y=\"-37.8\" font-family=\"Helvetica,sans-Serif\" font-size=\"14.00\">samples = 252</text>\n",
       "<text text-anchor=\"start\" x=\"88.5\" y=\"-22.8\" font-family=\"Helvetica,sans-Serif\" font-size=\"14.00\">value = [16, 236]</text>\n",
       "<text text-anchor=\"start\" x=\"102\" y=\"-7.8\" font-family=\"Helvetica,sans-Serif\" font-size=\"14.00\">class = Leave</text>\n",
       "</g>\n",
       "<!-- 8&#45;&gt;13 -->\n",
       "<g id=\"edge6\" class=\"edge\">\n",
       "<title>8&#45;&gt;13</title>\n",
       "<path fill=\"none\" stroke=\"black\" d=\"M200.08,-103.73C193.7,-94.88 186.94,-85.51 180.53,-76.63\"/>\n",
       "<polygon fill=\"black\" stroke=\"black\" points=\"183.21,-74.36 174.52,-68.3 177.54,-78.46 183.21,-74.36\"/>\n",
       "</g>\n",
       "<!-- 14 -->\n",
       "<g id=\"node8\" class=\"node\">\n",
       "<title>14</title>\n",
       "<path fill=\"#fdf3ec\" stroke=\"black\" d=\"M368,-68C368,-68 251,-68 251,-68 245,-68 239,-62 239,-56 239,-56 239,-12 239,-12 239,-6 245,0 251,0 251,0 368,0 368,0 374,0 380,-6 380,-12 380,-12 380,-56 380,-56 380,-62 374,-68 368,-68\"/>\n",
       "<text text-anchor=\"start\" x=\"265.5\" y=\"-52.8\" font-family=\"Helvetica,sans-Serif\" font-size=\"14.00\">gini = 0.499</text>\n",
       "<text text-anchor=\"start\" x=\"261\" y=\"-37.8\" font-family=\"Helvetica,sans-Serif\" font-size=\"14.00\">samples = 61</text>\n",
       "<text text-anchor=\"start\" x=\"252\" y=\"-22.8\" font-family=\"Helvetica,sans-Serif\" font-size=\"14.00\">value = [32, 29]</text>\n",
       "<text text-anchor=\"start\" x=\"247\" y=\"-7.8\" font-family=\"Helvetica,sans-Serif\" font-size=\"14.00\">class = Not Leave</text>\n",
       "</g>\n",
       "<!-- 8&#45;&gt;14 -->\n",
       "<g id=\"edge7\" class=\"edge\">\n",
       "<title>8&#45;&gt;14</title>\n",
       "<path fill=\"none\" stroke=\"black\" d=\"M259.29,-103.73C265.75,-94.88 272.6,-85.51 279.09,-76.63\"/>\n",
       "<polygon fill=\"black\" stroke=\"black\" points=\"282.1,-78.44 285.17,-68.3 276.45,-74.31 282.1,-78.44\"/>\n",
       "</g>\n",
       "<!-- 9 -->\n",
       "<g id=\"node11\" class=\"node\">\n",
       "<title>9</title>\n",
       "<path fill=\"#ea9b61\" stroke=\"black\" d=\"M558.5,-298.5C558.5,-298.5 424.5,-298.5 424.5,-298.5 418.5,-298.5 412.5,-292.5 412.5,-286.5 412.5,-286.5 412.5,-242.5 412.5,-242.5 412.5,-236.5 418.5,-230.5 424.5,-230.5 424.5,-230.5 558.5,-230.5 558.5,-230.5 564.5,-230.5 570.5,-236.5 570.5,-242.5 570.5,-242.5 570.5,-286.5 570.5,-286.5 570.5,-292.5 564.5,-298.5 558.5,-298.5\"/>\n",
       "<text text-anchor=\"start\" x=\"452\" y=\"-283.3\" font-family=\"Helvetica,sans-Serif\" font-size=\"14.00\">gini = 0.28</text>\n",
       "<text text-anchor=\"start\" x=\"434\" y=\"-268.3\" font-family=\"Helvetica,sans-Serif\" font-size=\"14.00\">samples = 1964</text>\n",
       "<text text-anchor=\"start\" x=\"420.5\" y=\"-253.3\" font-family=\"Helvetica,sans-Serif\" font-size=\"14.00\">value = [1633, 331]</text>\n",
       "<text text-anchor=\"start\" x=\"429\" y=\"-238.3\" font-family=\"Helvetica,sans-Serif\" font-size=\"14.00\">class = Not Leave</text>\n",
       "</g>\n",
       "<!-- 4&#45;&gt;9 -->\n",
       "<g id=\"edge10\" class=\"edge\">\n",
       "<title>4&#45;&gt;9</title>\n",
       "<path fill=\"none\" stroke=\"black\" d=\"M492.81,-341.91C492.62,-331.2 492.43,-319.62 492.24,-308.78\"/>\n",
       "<polygon fill=\"black\" stroke=\"black\" points=\"495.74,-308.61 492.07,-298.67 488.74,-308.73 495.74,-308.61\"/>\n",
       "</g>\n",
       "<!-- 10 -->\n",
       "<g id=\"node12\" class=\"node\">\n",
       "<title>10</title>\n",
       "<path fill=\"#f5cdb0\" stroke=\"black\" d=\"M725,-306C725,-306 600,-306 600,-306 594,-306 588,-300 588,-294 588,-294 588,-235 588,-235 588,-229 594,-223 600,-223 600,-223 725,-223 725,-223 731,-223 737,-229 737,-235 737,-235 737,-294 737,-294 737,-300 731,-306 725,-306\"/>\n",
       "<text text-anchor=\"start\" x=\"606\" y=\"-290.8\" font-family=\"Helvetica,sans-Serif\" font-size=\"14.00\">Education ≤ 2.5</text>\n",
       "<text text-anchor=\"start\" x=\"618.5\" y=\"-275.8\" font-family=\"Helvetica,sans-Serif\" font-size=\"14.00\">gini = 0.469</text>\n",
       "<text text-anchor=\"start\" x=\"609.5\" y=\"-260.8\" font-family=\"Helvetica,sans-Serif\" font-size=\"14.00\">samples = 392</text>\n",
       "<text text-anchor=\"start\" x=\"596\" y=\"-245.8\" font-family=\"Helvetica,sans-Serif\" font-size=\"14.00\">value = [245, 147]</text>\n",
       "<text text-anchor=\"start\" x=\"600\" y=\"-230.8\" font-family=\"Helvetica,sans-Serif\" font-size=\"14.00\">class = Not Leave</text>\n",
       "</g>\n",
       "<!-- 4&#45;&gt;10 -->\n",
       "<g id=\"edge11\" class=\"edge\">\n",
       "<title>4&#45;&gt;10</title>\n",
       "<path fill=\"none\" stroke=\"black\" d=\"M552.13,-341.91C566.16,-332.2 581.24,-321.76 595.61,-311.81\"/>\n",
       "<polygon fill=\"black\" stroke=\"black\" points=\"597.74,-314.59 603.97,-306.02 593.76,-308.84 597.74,-314.59\"/>\n",
       "</g>\n",
       "<!-- 11 -->\n",
       "<g id=\"node13\" class=\"node\">\n",
       "<title>11</title>\n",
       "<path fill=\"#fbeee4\" stroke=\"black\" d=\"M643,-179.5C643,-179.5 518,-179.5 518,-179.5 512,-179.5 506,-173.5 506,-167.5 506,-167.5 506,-123.5 506,-123.5 506,-117.5 512,-111.5 518,-111.5 518,-111.5 643,-111.5 643,-111.5 649,-111.5 655,-117.5 655,-123.5 655,-123.5 655,-167.5 655,-167.5 655,-173.5 649,-179.5 643,-179.5\"/>\n",
       "<text text-anchor=\"start\" x=\"536.5\" y=\"-164.3\" font-family=\"Helvetica,sans-Serif\" font-size=\"14.00\">gini = 0.497</text>\n",
       "<text text-anchor=\"start\" x=\"527.5\" y=\"-149.3\" font-family=\"Helvetica,sans-Serif\" font-size=\"14.00\">samples = 304</text>\n",
       "<text text-anchor=\"start\" x=\"514\" y=\"-134.3\" font-family=\"Helvetica,sans-Serif\" font-size=\"14.00\">value = [163, 141]</text>\n",
       "<text text-anchor=\"start\" x=\"518\" y=\"-119.3\" font-family=\"Helvetica,sans-Serif\" font-size=\"14.00\">class = Not Leave</text>\n",
       "</g>\n",
       "<!-- 10&#45;&gt;11 -->\n",
       "<g id=\"edge12\" class=\"edge\">\n",
       "<title>10&#45;&gt;11</title>\n",
       "<path fill=\"none\" stroke=\"black\" d=\"M634.05,-222.91C626.16,-211.65 617.59,-199.42 609.66,-188.11\"/>\n",
       "<polygon fill=\"black\" stroke=\"black\" points=\"612.35,-185.85 603.75,-179.67 606.62,-189.86 612.35,-185.85\"/>\n",
       "</g>\n",
       "<!-- 12 -->\n",
       "<g id=\"node14\" class=\"node\">\n",
       "<title>12</title>\n",
       "<path fill=\"#e78a47\" stroke=\"black\" d=\"M802,-179.5C802,-179.5 685,-179.5 685,-179.5 679,-179.5 673,-173.5 673,-167.5 673,-167.5 673,-123.5 673,-123.5 673,-117.5 679,-111.5 685,-111.5 685,-111.5 802,-111.5 802,-111.5 808,-111.5 814,-117.5 814,-123.5 814,-123.5 814,-167.5 814,-167.5 814,-173.5 808,-179.5 802,-179.5\"/>\n",
       "<text text-anchor=\"start\" x=\"699.5\" y=\"-164.3\" font-family=\"Helvetica,sans-Serif\" font-size=\"14.00\">gini = 0.127</text>\n",
       "<text text-anchor=\"start\" x=\"695\" y=\"-149.3\" font-family=\"Helvetica,sans-Serif\" font-size=\"14.00\">samples = 88</text>\n",
       "<text text-anchor=\"start\" x=\"690.5\" y=\"-134.3\" font-family=\"Helvetica,sans-Serif\" font-size=\"14.00\">value = [82, 6]</text>\n",
       "<text text-anchor=\"start\" x=\"681\" y=\"-119.3\" font-family=\"Helvetica,sans-Serif\" font-size=\"14.00\">class = Not Leave</text>\n",
       "</g>\n",
       "<!-- 10&#45;&gt;12 -->\n",
       "<g id=\"edge13\" class=\"edge\">\n",
       "<title>10&#45;&gt;12</title>\n",
       "<path fill=\"none\" stroke=\"black\" d=\"M690.6,-222.91C698.39,-211.65 706.86,-199.42 714.7,-188.11\"/>\n",
       "<polygon fill=\"black\" stroke=\"black\" points=\"717.72,-189.88 720.54,-179.67 711.97,-185.9 717.72,-189.88\"/>\n",
       "</g>\n",
       "</g>\n",
       "</svg>\n"
      ],
      "text/plain": [
       "<graphviz.files.Source at 0x7fb9468c4910>"
      ]
     },
     "execution_count": 23,
     "metadata": {},
     "output_type": "execute_result"
    }
   ],
   "source": [
    "import graphviz\n",
    "from sklearn import tree\n",
    "dot_data = tree.export_graphviz(dt, out_file = None, feature_names = X_train.columns, class_names =('Not Leave', 'Leave'), filled = True, rounded = True, special_characters = True)\n",
    "graph = graphviz.Source(dot_data)\n",
    "graph"
   ]
  },
  {
   "cell_type": "markdown",
   "id": "5e3a2255",
   "metadata": {
    "papermill": {
     "duration": 0.026133,
     "end_time": "2021-10-26T16:46:52.243521",
     "exception": false,
     "start_time": "2021-10-26T16:46:52.217388",
     "status": "completed"
    },
    "tags": []
   },
   "source": [
    "# Summary"
   ]
  },
  {
   "cell_type": "markdown",
   "id": "1deb2cd4",
   "metadata": {
    "papermill": {
     "duration": 0.025669,
     "end_time": "2021-10-26T16:46:52.297008",
     "exception": false,
     "start_time": "2021-10-26T16:46:52.271339",
     "status": "completed"
    },
    "tags": []
   },
   "source": [
    "After trying various models (KNNneighbours, RandomForest, XGBoost) I decided to use simple Decision Tree model for it's interpretibility while it still get high accuracy scores (only few percent lower than XGBoost). From visualisation of the model we can see that only 3 features are important which are Joining Year (recently  hired workers tend to leave), Payment'Tier (Higher PaymentTier tend to leave) and Education (Lower Educated Workers tend to leave). That simple decision tree can be used as an algorithm wchich can help HR easily (and accurately) classify workers."
   ]
  },
  {
   "cell_type": "code",
   "execution_count": null,
   "id": "3f697649",
   "metadata": {
    "papermill": {
     "duration": 0.025517,
     "end_time": "2021-10-26T16:46:52.348537",
     "exception": false,
     "start_time": "2021-10-26T16:46:52.323020",
     "status": "completed"
    },
    "tags": []
   },
   "outputs": [],
   "source": []
  }
 ],
 "metadata": {
  "kernelspec": {
   "display_name": "Python 3",
   "language": "python",
   "name": "python3"
  },
  "language_info": {
   "codemirror_mode": {
    "name": "ipython",
    "version": 3
   },
   "file_extension": ".py",
   "mimetype": "text/x-python",
   "name": "python",
   "nbconvert_exporter": "python",
   "pygments_lexer": "ipython3",
   "version": "3.7.10"
  },
  "papermill": {
   "default_parameters": {},
   "duration": 16.575716,
   "end_time": "2021-10-26T16:46:53.184757",
   "environment_variables": {},
   "exception": null,
   "input_path": "__notebook__.ipynb",
   "output_path": "__notebook__.ipynb",
   "parameters": {},
   "start_time": "2021-10-26T16:46:36.609041",
   "version": "2.3.3"
  }
 },
 "nbformat": 4,
 "nbformat_minor": 5
}
